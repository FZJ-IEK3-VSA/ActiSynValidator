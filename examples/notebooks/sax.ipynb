{
 "cells": [
  {
   "cell_type": "code",
   "execution_count": null,
   "metadata": {},
   "outputs": [],
   "source": [
    "\"\"\"\n",
    "Transform probability profiles via Symbolic Aggregate Approximation\n",
    "\"\"\"\n",
    "\n",
    "import pandas as pd\n",
    "import plotly.express as px\n",
    "import pyts"
   ]
  },
  {
   "cell_type": "code",
   "execution_count": null,
   "metadata": {},
   "outputs": [],
   "source": [
    "from examples.LoadProfileGenerator import example_lpg_validation as example"
   ]
  },
  {
   "cell_type": "code",
   "execution_count": null,
   "metadata": {},
   "outputs": [],
   "source": [
    "input, validation = example.validate_lpg()\n",
    "prob_v = validation.probability_profiles\n",
    "prob_i = input.probability_profiles"
   ]
  },
  {
   "cell_type": "code",
   "execution_count": null,
   "metadata": {},
   "outputs": [],
   "source": [
    "def get_sax_mean_curve(data, n_bins = 5):\n",
    "    # reshape (requirement for SAX)\n",
    "    d = data.values.reshape(1, -1)\n",
    "    sax = pyts.approximation.SymbolicAggregateApproximation(n_bins, strategy=\"uniform\")\n",
    "    sax_array = sax.fit_transform(d)\n",
    "    d_sax = pd.Series(sax_array[0], name=\"s\", index=data.index)\n",
    "    # get all symbols\n",
    "    symbols = d_sax.unique()\n",
    "    # create a series that only contains the means for each symbol\n",
    "    means = {s: data[d_sax == s].mean() for s in symbols}\n",
    "    mean_curve = d_sax.map(means)\n",
    "    return mean_curve"
   ]
  },
  {
   "cell_type": "code",
   "execution_count": null,
   "metadata": {},
   "outputs": [],
   "source": [
    "category = \"cook\"\n",
    "n_bins = 4\n",
    "mean_curve = get_sax_mean_curve(prob_v.loc[category], n_bins)\n",
    "mean_curve.name = \"Validataion means\"\n",
    "mean_curve_in = get_sax_mean_curve(prob_i.loc[category], n_bins)\n",
    "mean_curve_in.name =\"Input means\"\n",
    "result = pd.concat([mean_curve, mean_curve_in], axis=1)"
   ]
  },
  {
   "cell_type": "code",
   "execution_count": null,
   "metadata": {},
   "outputs": [],
   "source": [
    "dv = prob_v.loc[category]\n",
    "dv.name = \"Validation\"\n",
    "di = prob_i.loc[category]\n",
    "di.name = \"Input\"\n",
    "orig = pd.concat([dv, di], axis=1)\n",
    "combined = pd.concat([result, orig], axis=1)\n",
    "fig = px.line(combined)\n",
    "fig.show()"
   ]
  }
 ],
 "metadata": {
  "kernelspec": {
   "display_name": "Python 3",
   "language": "python",
   "name": "python3"
  },
  "language_info": {
   "codemirror_mode": {
    "name": "ipython",
    "version": 3
   },
   "file_extension": ".py",
   "mimetype": "text/x-python",
   "name": "python",
   "nbconvert_exporter": "python",
   "pygments_lexer": "ipython3",
   "version": "3.11.6"
  }
 },
 "nbformat": 4,
 "nbformat_minor": 2
}
