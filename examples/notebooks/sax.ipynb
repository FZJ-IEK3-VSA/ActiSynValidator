{
 "cells": [
  {
   "cell_type": "code",
   "execution_count": 50,
   "metadata": {},
   "outputs": [],
   "source": [
    "\"\"\"\n",
    "Transform probability profiles via Symbolic Aggregate Approximation\n",
    "\"\"\"\n",
    "\n",
    "import pandas as pd\n",
    "import plotly.express as px\n",
    "import plotly.graph_objects as go\n",
    "import numpy as np\n",
    "import pyts"
   ]
  },
  {
   "cell_type": "code",
   "execution_count": 2,
   "metadata": {},
   "outputs": [],
   "source": [
    "from examples import example_lpg_validation as example"
   ]
  },
  {
   "cell_type": "code",
   "execution_count": 3,
   "metadata": {},
   "outputs": [
    {
     "name": "stderr",
     "output_type": "stream",
     "text": [
      "d:\\Home\\Programme\\micromamba-root\\envs\\activity-validator-py3.11\\Lib\\site-packages\\numpy\\lib\\function_base.py:2897: RuntimeWarning: invalid value encountered in divide\n",
      "  c /= stddev[:, None]\n",
      "d:\\Home\\Programme\\micromamba-root\\envs\\activity-validator-py3.11\\Lib\\site-packages\\numpy\\lib\\function_base.py:2898: RuntimeWarning: invalid value encountered in divide\n",
      "  c /= stddev[None, :]\n"
     ]
    }
   ],
   "source": [
    "input, validation = example.validate_lpg()\n",
    "prob_v = validation.probability_profiles\n",
    "prob_i = input.probability_profiles"
   ]
  },
  {
   "cell_type": "code",
   "execution_count": 51,
   "metadata": {},
   "outputs": [],
   "source": [
    "def get_sax_mean_curve(data, n_bins = 5):\n",
    "    # reshape (requirement for SAX)\n",
    "    d = data.values.reshape(1, -1)\n",
    "    sax = pyts.approximation.SymbolicAggregateApproximation(n_bins, strategy=\"uniform\")\n",
    "    sax_array = sax.fit_transform(d)\n",
    "    d_sax = pd.Series(sax_array[0], name=\"s\", index=data.index)\n",
    "    # get all symbols\n",
    "    symbols = d_sax.unique()\n",
    "    # create a series that only contains the means for each symbol\n",
    "    means = {s: data[d_sax == s].mean() for s in symbols}\n",
    "    mean_curve = d_sax.map(means)\n",
    "    return mean_curve"
   ]
  },
  {
   "cell_type": "code",
   "execution_count": 56,
   "metadata": {},
   "outputs": [],
   "source": [
    "category = \"cook\"\n",
    "n_bins = 4\n",
    "mean_curve = get_sax_mean_curve(prob_v.loc[category], n_bins)\n",
    "mean_curve.name = \"Validataion means\"\n",
    "mean_curve_in = get_sax_mean_curve(prob_i.loc[category], n_bins)\n",
    "mean_curve_in.name =\"Input means\"\n",
    "result = pd.concat([mean_curve, mean_curve_in], axis=1)"
   ]
  },
  {
   "cell_type": "code",
   "execution_count": 57,
   "metadata": {},
   "outputs": [
    {
     "data": {
      "application/vnd.plotly.v1+json": {
       "config": {
        "plotlyServerURL": "https://plot.ly"
       },
       "data": [
        {
         "hovertemplate": "variable=Validataion means<br>index=%{x}<br>value=%{y}<extra></extra>",
         "legendgroup": "Validataion means",
         "line": {
          "color": "#636efa",
          "dash": "solid"
         },
         "marker": {
          "symbol": "circle"
         },
         "mode": "lines",
         "name": "Validataion means",
         "orientation": "v",
         "showlegend": true,
         "type": "scatter",
         "x": [
          "Timestep 1",
          "Timestep 2",
          "Timestep 3",
          "Timestep 4",
          "Timestep 5",
          "Timestep 6",
          "Timestep 7",
          "Timestep 8",
          "Timestep 9",
          "Timestep 10",
          "Timestep 11",
          "Timestep 12",
          "Timestep 13",
          "Timestep 14",
          "Timestep 15",
          "Timestep 16",
          "Timestep 17",
          "Timestep 18",
          "Timestep 19",
          "Timestep 20",
          "Timestep 21",
          "Timestep 22",
          "Timestep 23",
          "Timestep 24",
          "Timestep 25",
          "Timestep 26",
          "Timestep 27",
          "Timestep 28",
          "Timestep 29",
          "Timestep 30",
          "Timestep 31",
          "Timestep 32",
          "Timestep 33",
          "Timestep 34",
          "Timestep 35",
          "Timestep 36",
          "Timestep 37",
          "Timestep 38",
          "Timestep 39",
          "Timestep 40",
          "Timestep 41",
          "Timestep 42",
          "Timestep 43",
          "Timestep 44",
          "Timestep 45",
          "Timestep 46",
          "Timestep 47",
          "Timestep 48",
          "Timestep 49",
          "Timestep 50",
          "Timestep 51",
          "Timestep 52",
          "Timestep 53",
          "Timestep 54",
          "Timestep 55",
          "Timestep 56",
          "Timestep 57",
          "Timestep 58",
          "Timestep 59",
          "Timestep 60",
          "Timestep 61",
          "Timestep 62",
          "Timestep 63",
          "Timestep 64",
          "Timestep 65",
          "Timestep 66",
          "Timestep 67",
          "Timestep 68",
          "Timestep 69",
          "Timestep 70",
          "Timestep 71",
          "Timestep 72",
          "Timestep 73",
          "Timestep 74",
          "Timestep 75",
          "Timestep 76",
          "Timestep 77",
          "Timestep 78",
          "Timestep 79",
          "Timestep 80",
          "Timestep 81",
          "Timestep 82",
          "Timestep 83",
          "Timestep 84",
          "Timestep 85",
          "Timestep 86",
          "Timestep 87",
          "Timestep 88",
          "Timestep 89",
          "Timestep 90",
          "Timestep 91",
          "Timestep 92",
          "Timestep 93",
          "Timestep 94",
          "Timestep 95",
          "Timestep 96",
          "Timestep 97",
          "Timestep 98",
          "Timestep 99",
          "Timestep 100",
          "Timestep 101",
          "Timestep 102",
          "Timestep 103",
          "Timestep 104",
          "Timestep 105",
          "Timestep 106",
          "Timestep 107",
          "Timestep 108",
          "Timestep 109",
          "Timestep 110",
          "Timestep 111",
          "Timestep 112",
          "Timestep 113",
          "Timestep 114",
          "Timestep 115",
          "Timestep 116",
          "Timestep 117",
          "Timestep 118",
          "Timestep 119",
          "Timestep 120",
          "Timestep 121",
          "Timestep 122",
          "Timestep 123",
          "Timestep 124",
          "Timestep 125",
          "Timestep 126",
          "Timestep 127",
          "Timestep 128",
          "Timestep 129",
          "Timestep 130",
          "Timestep 131",
          "Timestep 132",
          "Timestep 133",
          "Timestep 134",
          "Timestep 135",
          "Timestep 136",
          "Timestep 137",
          "Timestep 138",
          "Timestep 139",
          "Timestep 140",
          "Timestep 141",
          "Timestep 142",
          "Timestep 143",
          "Timestep 144"
         ],
         "xaxis": "x",
         "y": [
          0.006600660066006561,
          0.006600660066006561,
          0.006600660066006561,
          0.006600660066006561,
          0.006600660066006561,
          0.006600660066006561,
          0.006600660066006561,
          0.006600660066006561,
          0.006600660066006561,
          0.006600660066006561,
          0.006600660066006561,
          0.006600660066006561,
          0.006600660066006561,
          0.006600660066006561,
          0.006600660066006561,
          0.006600660066006561,
          0.006600660066006561,
          0.006600660066006561,
          0.006600660066006561,
          0.006600660066006561,
          0.006600660066006561,
          0.006600660066006561,
          0.044272719954922275,
          0.044272719954922275,
          0.044272719954922275,
          0.044272719954922275,
          0.044272719954922275,
          0.044272719954922275,
          0.044272719954922275,
          0.044272719954922275,
          0.044272719954922275,
          0.044272719954922275,
          0.044272719954922275,
          0.044272719954922275,
          0.044272719954922275,
          0.044272719954922275,
          0.07152009318578913,
          0.07152009318578913,
          0.044272719954922275,
          0.044272719954922275,
          0.07152009318578913,
          0.07152009318578913,
          0.07152009318578913,
          0.10022002200220018,
          0.10022002200220018,
          0.10022002200220018,
          0.10022002200220018,
          0.10022002200220018,
          0.10022002200220018,
          0.10022002200220018,
          0.10022002200220018,
          0.10022002200220018,
          0.10022002200220018,
          0.10022002200220018,
          0.07152009318578913,
          0.07152009318578913,
          0.07152009318578913,
          0.044272719954922275,
          0.044272719954922275,
          0.044272719954922275,
          0.044272719954922275,
          0.044272719954922275,
          0.044272719954922275,
          0.044272719954922275,
          0.044272719954922275,
          0.044272719954922275,
          0.044272719954922275,
          0.044272719954922275,
          0.044272719954922275,
          0.044272719954922275,
          0.044272719954922275,
          0.044272719954922275,
          0.044272719954922275,
          0.044272719954922275,
          0.044272719954922275,
          0.044272719954922275,
          0.044272719954922275,
          0.044272719954922275,
          0.07152009318578913,
          0.07152009318578913,
          0.07152009318578913,
          0.07152009318578913,
          0.10022002200220018,
          0.10022002200220018,
          0.10022002200220018,
          0.10022002200220018,
          0.10022002200220018,
          0.10022002200220018,
          0.10022002200220018,
          0.07152009318578913,
          0.07152009318578913,
          0.07152009318578913,
          0.07152009318578913,
          0.07152009318578913,
          0.044272719954922275,
          0.044272719954922275,
          0.044272719954922275,
          0.044272719954922275,
          0.006600660066006561,
          0.006600660066006561,
          0.006600660066006561,
          0.006600660066006561,
          0.006600660066006561,
          0.006600660066006561,
          0.006600660066006561,
          0.006600660066006561,
          0.006600660066006561,
          0.006600660066006561,
          0.006600660066006561,
          0.006600660066006561,
          0.006600660066006561,
          0.006600660066006561,
          0.006600660066006561,
          0.006600660066006561,
          0.006600660066006561,
          0.006600660066006561,
          0.006600660066006561,
          0.006600660066006561,
          0.006600660066006561,
          0.006600660066006561,
          0.006600660066006561,
          0.006600660066006561,
          0.006600660066006561,
          0.006600660066006561,
          0.006600660066006561,
          0.006600660066006561,
          0.006600660066006561,
          0.006600660066006561,
          0.006600660066006561,
          0.006600660066006561,
          0.006600660066006561,
          0.006600660066006561,
          0.006600660066006561,
          0.006600660066006561,
          0.006600660066006561,
          0.006600660066006561,
          0.006600660066006561,
          0.006600660066006561,
          0.006600660066006561,
          0.006600660066006561,
          0.006600660066006561,
          0.006600660066006561,
          0.006600660066006561,
          0.006600660066006561
         ],
         "yaxis": "y"
        },
        {
         "hovertemplate": "variable=Input means<br>index=%{x}<br>value=%{y}<extra></extra>",
         "legendgroup": "Input means",
         "line": {
          "color": "#EF553B",
          "dash": "solid"
         },
         "marker": {
          "symbol": "circle"
         },
         "mode": "lines",
         "name": "Input means",
         "orientation": "v",
         "showlegend": true,
         "type": "scatter",
         "x": [
          "Timestep 1",
          "Timestep 2",
          "Timestep 3",
          "Timestep 4",
          "Timestep 5",
          "Timestep 6",
          "Timestep 7",
          "Timestep 8",
          "Timestep 9",
          "Timestep 10",
          "Timestep 11",
          "Timestep 12",
          "Timestep 13",
          "Timestep 14",
          "Timestep 15",
          "Timestep 16",
          "Timestep 17",
          "Timestep 18",
          "Timestep 19",
          "Timestep 20",
          "Timestep 21",
          "Timestep 22",
          "Timestep 23",
          "Timestep 24",
          "Timestep 25",
          "Timestep 26",
          "Timestep 27",
          "Timestep 28",
          "Timestep 29",
          "Timestep 30",
          "Timestep 31",
          "Timestep 32",
          "Timestep 33",
          "Timestep 34",
          "Timestep 35",
          "Timestep 36",
          "Timestep 37",
          "Timestep 38",
          "Timestep 39",
          "Timestep 40",
          "Timestep 41",
          "Timestep 42",
          "Timestep 43",
          "Timestep 44",
          "Timestep 45",
          "Timestep 46",
          "Timestep 47",
          "Timestep 48",
          "Timestep 49",
          "Timestep 50",
          "Timestep 51",
          "Timestep 52",
          "Timestep 53",
          "Timestep 54",
          "Timestep 55",
          "Timestep 56",
          "Timestep 57",
          "Timestep 58",
          "Timestep 59",
          "Timestep 60",
          "Timestep 61",
          "Timestep 62",
          "Timestep 63",
          "Timestep 64",
          "Timestep 65",
          "Timestep 66",
          "Timestep 67",
          "Timestep 68",
          "Timestep 69",
          "Timestep 70",
          "Timestep 71",
          "Timestep 72",
          "Timestep 73",
          "Timestep 74",
          "Timestep 75",
          "Timestep 76",
          "Timestep 77",
          "Timestep 78",
          "Timestep 79",
          "Timestep 80",
          "Timestep 81",
          "Timestep 82",
          "Timestep 83",
          "Timestep 84",
          "Timestep 85",
          "Timestep 86",
          "Timestep 87",
          "Timestep 88",
          "Timestep 89",
          "Timestep 90",
          "Timestep 91",
          "Timestep 92",
          "Timestep 93",
          "Timestep 94",
          "Timestep 95",
          "Timestep 96",
          "Timestep 97",
          "Timestep 98",
          "Timestep 99",
          "Timestep 100",
          "Timestep 101",
          "Timestep 102",
          "Timestep 103",
          "Timestep 104",
          "Timestep 105",
          "Timestep 106",
          "Timestep 107",
          "Timestep 108",
          "Timestep 109",
          "Timestep 110",
          "Timestep 111",
          "Timestep 112",
          "Timestep 113",
          "Timestep 114",
          "Timestep 115",
          "Timestep 116",
          "Timestep 117",
          "Timestep 118",
          "Timestep 119",
          "Timestep 120",
          "Timestep 121",
          "Timestep 122",
          "Timestep 123",
          "Timestep 124",
          "Timestep 125",
          "Timestep 126",
          "Timestep 127",
          "Timestep 128",
          "Timestep 129",
          "Timestep 130",
          "Timestep 131",
          "Timestep 132",
          "Timestep 133",
          "Timestep 134",
          "Timestep 135",
          "Timestep 136",
          "Timestep 137",
          "Timestep 138",
          "Timestep 139",
          "Timestep 140",
          "Timestep 141",
          "Timestep 142",
          "Timestep 143",
          "Timestep 144"
         ],
         "xaxis": "x",
         "y": [
          0.027484276729559748,
          0.027484276729559748,
          0.027484276729559748,
          0.027484276729559748,
          0.027484276729559748,
          0.027484276729559748,
          0.027484276729559748,
          0.027484276729559748,
          0.027484276729559748,
          0.027484276729559748,
          0.027484276729559748,
          0.027484276729559748,
          0.027484276729559748,
          0.15111809923130679,
          0.15111809923130679,
          0.2659853249475891,
          0.3769654088050314,
          0.3769654088050314,
          0.3769654088050314,
          0.3769654088050314,
          0.3769654088050314,
          0.3769654088050314,
          0.3769654088050314,
          0.3769654088050314,
          0.3769654088050314,
          0.3769654088050314,
          0.2659853249475891,
          0.3769654088050314,
          0.2659853249475891,
          0.2659853249475891,
          0.2659853249475891,
          0.2659853249475891,
          0.2659853249475891,
          0.2659853249475891,
          0.15111809923130679,
          0.15111809923130679,
          0.15111809923130679,
          0.15111809923130679,
          0.15111809923130679,
          0.15111809923130679,
          0.027484276729559748,
          0.15111809923130679,
          0.2659853249475891,
          0.2659853249475891,
          0.2659853249475891,
          0.3769654088050314,
          0.3769654088050314,
          0.3769654088050314,
          0.3769654088050314,
          0.3769654088050314,
          0.3769654088050314,
          0.3769654088050314,
          0.3769654088050314,
          0.3769654088050314,
          0.3769654088050314,
          0.3769654088050314,
          0.3769654088050314,
          0.3769654088050314,
          0.2659853249475891,
          0.2659853249475891,
          0.2659853249475891,
          0.15111809923130679,
          0.15111809923130679,
          0.15111809923130679,
          0.15111809923130679,
          0.027484276729559748,
          0.027484276729559748,
          0.027484276729559748,
          0.027484276729559748,
          0.027484276729559748,
          0.027484276729559748,
          0.027484276729559748,
          0.027484276729559748,
          0.027484276729559748,
          0.027484276729559748,
          0.027484276729559748,
          0.027484276729559748,
          0.027484276729559748,
          0.027484276729559748,
          0.027484276729559748,
          0.027484276729559748,
          0.027484276729559748,
          0.027484276729559748,
          0.2659853249475891,
          0.2659853249475891,
          0.2659853249475891,
          0.15111809923130679,
          0.2659853249475891,
          0.15111809923130679,
          0.15111809923130679,
          0.15111809923130679,
          0.15111809923130679,
          0.15111809923130679,
          0.15111809923130679,
          0.15111809923130679,
          0.15111809923130679,
          0.15111809923130679,
          0.15111809923130679,
          0.15111809923130679,
          0.15111809923130679,
          0.15111809923130679,
          0.027484276729559748,
          0.027484276729559748,
          0.027484276729559748,
          0.027484276729559748,
          0.027484276729559748,
          0.027484276729559748,
          0.027484276729559748,
          0.027484276729559748,
          0.027484276729559748,
          0.027484276729559748,
          0.027484276729559748,
          0.027484276729559748,
          0.027484276729559748,
          0.027484276729559748,
          0.027484276729559748,
          0.027484276729559748,
          0.027484276729559748,
          0.027484276729559748,
          0.027484276729559748,
          0.027484276729559748,
          0.027484276729559748,
          0.027484276729559748,
          0.027484276729559748,
          0.027484276729559748,
          0.027484276729559748,
          0.027484276729559748,
          0.027484276729559748,
          0.027484276729559748,
          0.027484276729559748,
          0.027484276729559748,
          0.027484276729559748,
          0.027484276729559748,
          0.027484276729559748,
          0.027484276729559748,
          0.027484276729559748,
          0.027484276729559748,
          0.027484276729559748,
          0.027484276729559748,
          0.027484276729559748,
          0.027484276729559748,
          0.027484276729559748,
          0.027484276729559748,
          0.027484276729559748
         ],
         "yaxis": "y"
        },
        {
         "hovertemplate": "variable=Validation<br>index=%{x}<br>value=%{y}<extra></extra>",
         "legendgroup": "Validation",
         "line": {
          "color": "#00cc96",
          "dash": "solid"
         },
         "marker": {
          "symbol": "circle"
         },
         "mode": "lines",
         "name": "Validation",
         "orientation": "v",
         "showlegend": true,
         "type": "scatter",
         "x": [
          "Timestep 1",
          "Timestep 2",
          "Timestep 3",
          "Timestep 4",
          "Timestep 5",
          "Timestep 6",
          "Timestep 7",
          "Timestep 8",
          "Timestep 9",
          "Timestep 10",
          "Timestep 11",
          "Timestep 12",
          "Timestep 13",
          "Timestep 14",
          "Timestep 15",
          "Timestep 16",
          "Timestep 17",
          "Timestep 18",
          "Timestep 19",
          "Timestep 20",
          "Timestep 21",
          "Timestep 22",
          "Timestep 23",
          "Timestep 24",
          "Timestep 25",
          "Timestep 26",
          "Timestep 27",
          "Timestep 28",
          "Timestep 29",
          "Timestep 30",
          "Timestep 31",
          "Timestep 32",
          "Timestep 33",
          "Timestep 34",
          "Timestep 35",
          "Timestep 36",
          "Timestep 37",
          "Timestep 38",
          "Timestep 39",
          "Timestep 40",
          "Timestep 41",
          "Timestep 42",
          "Timestep 43",
          "Timestep 44",
          "Timestep 45",
          "Timestep 46",
          "Timestep 47",
          "Timestep 48",
          "Timestep 49",
          "Timestep 50",
          "Timestep 51",
          "Timestep 52",
          "Timestep 53",
          "Timestep 54",
          "Timestep 55",
          "Timestep 56",
          "Timestep 57",
          "Timestep 58",
          "Timestep 59",
          "Timestep 60",
          "Timestep 61",
          "Timestep 62",
          "Timestep 63",
          "Timestep 64",
          "Timestep 65",
          "Timestep 66",
          "Timestep 67",
          "Timestep 68",
          "Timestep 69",
          "Timestep 70",
          "Timestep 71",
          "Timestep 72",
          "Timestep 73",
          "Timestep 74",
          "Timestep 75",
          "Timestep 76",
          "Timestep 77",
          "Timestep 78",
          "Timestep 79",
          "Timestep 80",
          "Timestep 81",
          "Timestep 82",
          "Timestep 83",
          "Timestep 84",
          "Timestep 85",
          "Timestep 86",
          "Timestep 87",
          "Timestep 88",
          "Timestep 89",
          "Timestep 90",
          "Timestep 91",
          "Timestep 92",
          "Timestep 93",
          "Timestep 94",
          "Timestep 95",
          "Timestep 96",
          "Timestep 97",
          "Timestep 98",
          "Timestep 99",
          "Timestep 100",
          "Timestep 101",
          "Timestep 102",
          "Timestep 103",
          "Timestep 104",
          "Timestep 105",
          "Timestep 106",
          "Timestep 107",
          "Timestep 108",
          "Timestep 109",
          "Timestep 110",
          "Timestep 111",
          "Timestep 112",
          "Timestep 113",
          "Timestep 114",
          "Timestep 115",
          "Timestep 116",
          "Timestep 117",
          "Timestep 118",
          "Timestep 119",
          "Timestep 120",
          "Timestep 121",
          "Timestep 122",
          "Timestep 123",
          "Timestep 124",
          "Timestep 125",
          "Timestep 126",
          "Timestep 127",
          "Timestep 128",
          "Timestep 129",
          "Timestep 130",
          "Timestep 131",
          "Timestep 132",
          "Timestep 133",
          "Timestep 134",
          "Timestep 135",
          "Timestep 136",
          "Timestep 137",
          "Timestep 138",
          "Timestep 139",
          "Timestep 140",
          "Timestep 141",
          "Timestep 142",
          "Timestep 143",
          "Timestep 144"
         ],
         "xaxis": "x",
         "y": [
          0,
          0.0006600660066006,
          0.0006600660066006,
          0.0006600660066006,
          0.0019801980198019,
          0.0013201320132013,
          0.0026402640264026,
          0.0019801980198019,
          0.0026402640264026,
          0.0046204620462046,
          0.0046204620462046,
          0.0059405940594059,
          0.0085808580858085,
          0.0112211221122112,
          0.0165016501650165,
          0.0165016501650165,
          0.0151815181518151,
          0.0184818481848184,
          0.0184818481848184,
          0.0171617161716171,
          0.0217821782178217,
          0.0244224422442244,
          0.031023102310231,
          0.0303630363036303,
          0.0382838283828382,
          0.0389438943894389,
          0.0369636963696369,
          0.0448844884488448,
          0.0382838283828382,
          0.0409240924092409,
          0.0435643564356435,
          0.0462046204620462,
          0.0462046204620462,
          0.0495049504950495,
          0.0488448844884488,
          0.0501650165016501,
          0.0673267326732673,
          0.0633663366336633,
          0.0574257425742574,
          0.0587458745874587,
          0.0607260726072607,
          0.0712871287128712,
          0.0877887788778877,
          0.0937293729372937,
          0.0976897689768976,
          0.1082508250825082,
          0.1161716171617161,
          0.1194719471947194,
          0.1089108910891089,
          0.1016501650165016,
          0.1128712871287128,
          0.0943894389438943,
          0.0904290429042904,
          0.0904290429042904,
          0.0719471947194719,
          0.0699669966996699,
          0.062046204620462,
          0.0514851485148514,
          0.0462046204620462,
          0.0422442244224422,
          0.0475247524752475,
          0.0462046204620462,
          0.0481848184818481,
          0.0508250825082508,
          0.0468646864686468,
          0.0468646864686468,
          0.0508250825082508,
          0.0448844884488448,
          0.0442244224422442,
          0.0316831683168316,
          0.0363036303630363,
          0.0376237623762376,
          0.0448844884488448,
          0.0389438943894389,
          0.0349834983498349,
          0.0369636963696369,
          0.0501650165016501,
          0.0547854785478547,
          0.0693069306930693,
          0.0712871287128712,
          0.0726072607260726,
          0.0864686468646864,
          0.0904290429042904,
          0.0917491749174917,
          0.1108910891089108,
          0.097029702970297,
          0.0917491749174917,
          0.0976897689768976,
          0.0904290429042904,
          0.0871287128712871,
          0.0745874587458746,
          0.0679867986798679,
          0.0646864686468646,
          0.0673267326732673,
          0.0547854785478547,
          0.0541254125412541,
          0.0356435643564356,
          0.0376237623762376,
          0.027062706270627,
          0.0217821782178217,
          0.0211221122112211,
          0.0184818481848184,
          0.0158415841584158,
          0.0165016501650165,
          0.0125412541254125,
          0.0099009900990099,
          0.0105610561056105,
          0.0092409240924092,
          0.0118811881188118,
          0.0085808580858085,
          0.0079207920792079,
          0.0039603960396039,
          0.0046204620462046,
          0.0059405940594059,
          0.0052805280528052,
          0.0072607260726072,
          0.0046204620462046,
          0.0013201320132013,
          0.0033003300330033,
          0.0019801980198019,
          0.0013201320132013,
          0.0019801980198019,
          0,
          0,
          0,
          0,
          0.0013201320132013,
          0.0013201320132013,
          0.0006600660066006,
          0.0006600660066006,
          0.0019801980198019,
          0.0013201320132013,
          0.0013201320132013,
          0.0013201320132013,
          0.0013201320132013,
          0.0006600660066006,
          0.0006600660066006,
          0.0013201320132013,
          0.0013201320132013,
          0.0013201320132013,
          0.0006600660066006,
          0.0006600660066006,
          0.0013201320132013,
          0.0006600660066006
         ],
         "yaxis": "y"
        },
        {
         "hovertemplate": "variable=Input<br>index=%{x}<br>value=%{y}<extra></extra>",
         "legendgroup": "Input",
         "line": {
          "color": "#ab63fa",
          "dash": "solid"
         },
         "marker": {
          "symbol": "circle"
         },
         "mode": "lines",
         "name": "Input",
         "orientation": "v",
         "showlegend": true,
         "type": "scatter",
         "x": [
          "Timestep 1",
          "Timestep 2",
          "Timestep 3",
          "Timestep 4",
          "Timestep 5",
          "Timestep 6",
          "Timestep 7",
          "Timestep 8",
          "Timestep 9",
          "Timestep 10",
          "Timestep 11",
          "Timestep 12",
          "Timestep 13",
          "Timestep 14",
          "Timestep 15",
          "Timestep 16",
          "Timestep 17",
          "Timestep 18",
          "Timestep 19",
          "Timestep 20",
          "Timestep 21",
          "Timestep 22",
          "Timestep 23",
          "Timestep 24",
          "Timestep 25",
          "Timestep 26",
          "Timestep 27",
          "Timestep 28",
          "Timestep 29",
          "Timestep 30",
          "Timestep 31",
          "Timestep 32",
          "Timestep 33",
          "Timestep 34",
          "Timestep 35",
          "Timestep 36",
          "Timestep 37",
          "Timestep 38",
          "Timestep 39",
          "Timestep 40",
          "Timestep 41",
          "Timestep 42",
          "Timestep 43",
          "Timestep 44",
          "Timestep 45",
          "Timestep 46",
          "Timestep 47",
          "Timestep 48",
          "Timestep 49",
          "Timestep 50",
          "Timestep 51",
          "Timestep 52",
          "Timestep 53",
          "Timestep 54",
          "Timestep 55",
          "Timestep 56",
          "Timestep 57",
          "Timestep 58",
          "Timestep 59",
          "Timestep 60",
          "Timestep 61",
          "Timestep 62",
          "Timestep 63",
          "Timestep 64",
          "Timestep 65",
          "Timestep 66",
          "Timestep 67",
          "Timestep 68",
          "Timestep 69",
          "Timestep 70",
          "Timestep 71",
          "Timestep 72",
          "Timestep 73",
          "Timestep 74",
          "Timestep 75",
          "Timestep 76",
          "Timestep 77",
          "Timestep 78",
          "Timestep 79",
          "Timestep 80",
          "Timestep 81",
          "Timestep 82",
          "Timestep 83",
          "Timestep 84",
          "Timestep 85",
          "Timestep 86",
          "Timestep 87",
          "Timestep 88",
          "Timestep 89",
          "Timestep 90",
          "Timestep 91",
          "Timestep 92",
          "Timestep 93",
          "Timestep 94",
          "Timestep 95",
          "Timestep 96",
          "Timestep 97",
          "Timestep 98",
          "Timestep 99",
          "Timestep 100",
          "Timestep 101",
          "Timestep 102",
          "Timestep 103",
          "Timestep 104",
          "Timestep 105",
          "Timestep 106",
          "Timestep 107",
          "Timestep 108",
          "Timestep 109",
          "Timestep 110",
          "Timestep 111",
          "Timestep 112",
          "Timestep 113",
          "Timestep 114",
          "Timestep 115",
          "Timestep 116",
          "Timestep 117",
          "Timestep 118",
          "Timestep 119",
          "Timestep 120",
          "Timestep 121",
          "Timestep 122",
          "Timestep 123",
          "Timestep 124",
          "Timestep 125",
          "Timestep 126",
          "Timestep 127",
          "Timestep 128",
          "Timestep 129",
          "Timestep 130",
          "Timestep 131",
          "Timestep 132",
          "Timestep 133",
          "Timestep 134",
          "Timestep 135",
          "Timestep 136",
          "Timestep 137",
          "Timestep 138",
          "Timestep 139",
          "Timestep 140",
          "Timestep 141",
          "Timestep 142",
          "Timestep 143",
          "Timestep 144"
         ],
         "xaxis": "x",
         "y": [
          0,
          0,
          0,
          0,
          0,
          0,
          0,
          0,
          0,
          0,
          0,
          0.018867924528301886,
          0.0660377358490566,
          0.1179245283018868,
          0.2028301886792453,
          0.25943396226415094,
          0.33962264150943394,
          0.37735849056603776,
          0.4009433962264151,
          0.42924528301886794,
          0.419811320754717,
          0.37264150943396224,
          0.38207547169811323,
          0.33962264150943394,
          0.33962264150943394,
          0.33490566037735847,
          0.32075471698113206,
          0.33490566037735847,
          0.32075471698113206,
          0.2971698113207547,
          0.27358490566037735,
          0.25943396226415094,
          0.25,
          0.2169811320754717,
          0.17452830188679244,
          0.1650943396226415,
          0.15566037735849056,
          0.16037735849056603,
          0.16037735849056603,
          0.12735849056603774,
          0.10377358490566038,
          0.12264150943396226,
          0.2358490566037736,
          0.30660377358490565,
          0.30660377358490565,
          0.33490566037735847,
          0.3584905660377358,
          0.36792452830188677,
          0.3867924528301887,
          0.4056603773584906,
          0.4009433962264151,
          0.41509433962264153,
          0.4056603773584906,
          0.4056603773584906,
          0.4009433962264151,
          0.4009433962264151,
          0.36792452830188677,
          0.32547169811320753,
          0.3113207547169811,
          0.24056603773584906,
          0.2169811320754717,
          0.2028301886792453,
          0.17452830188679244,
          0.14150943396226415,
          0.12264150943396226,
          0.09905660377358491,
          0.09905660377358491,
          0.10377358490566038,
          0.10377358490566038,
          0.09433962264150944,
          0.09433962264150944,
          0.08490566037735849,
          0.08018867924528301,
          0.07547169811320754,
          0.08018867924528301,
          0.08018867924528301,
          0.08018867924528301,
          0.06132075471698113,
          0.0660377358490566,
          0.08962264150943396,
          0.05660377358490566,
          0.07547169811320754,
          0.10377358490566038,
          0.22641509433962265,
          0.27358490566037735,
          0.25471698113207547,
          0.19811320754716982,
          0.2169811320754717,
          0.20754716981132076,
          0.1509433962264151,
          0.12264150943396226,
          0.11320754716981132,
          0.14150943396226415,
          0.16981132075471697,
          0.16981132075471697,
          0.18867924528301888,
          0.14150943396226415,
          0.12264150943396226,
          0.10849056603773585,
          0.10849056603773585,
          0.10849056603773585,
          0.08962264150943396,
          0.07547169811320754,
          0.03773584905660377,
          0.0330188679245283,
          0.02358490566037736,
          0.02830188679245283,
          0.0330188679245283,
          0.0047169811320754715,
          0,
          0,
          0,
          0,
          0,
          0,
          0,
          0,
          0,
          0,
          0,
          0,
          0,
          0,
          0,
          0,
          0,
          0,
          0,
          0,
          0,
          0,
          0.0047169811320754715,
          0.0047169811320754715,
          0.0047169811320754715,
          0.0047169811320754715,
          0,
          0,
          0,
          0,
          0,
          0,
          0,
          0,
          0
         ],
         "yaxis": "y"
        }
       ],
       "layout": {
        "legend": {
         "title": {
          "text": "variable"
         },
         "tracegroupgap": 0
        },
        "margin": {
         "t": 60
        },
        "template": {
         "data": {
          "bar": [
           {
            "error_x": {
             "color": "#2a3f5f"
            },
            "error_y": {
             "color": "#2a3f5f"
            },
            "marker": {
             "line": {
              "color": "#E5ECF6",
              "width": 0.5
             },
             "pattern": {
              "fillmode": "overlay",
              "size": 10,
              "solidity": 0.2
             }
            },
            "type": "bar"
           }
          ],
          "barpolar": [
           {
            "marker": {
             "line": {
              "color": "#E5ECF6",
              "width": 0.5
             },
             "pattern": {
              "fillmode": "overlay",
              "size": 10,
              "solidity": 0.2
             }
            },
            "type": "barpolar"
           }
          ],
          "carpet": [
           {
            "aaxis": {
             "endlinecolor": "#2a3f5f",
             "gridcolor": "white",
             "linecolor": "white",
             "minorgridcolor": "white",
             "startlinecolor": "#2a3f5f"
            },
            "baxis": {
             "endlinecolor": "#2a3f5f",
             "gridcolor": "white",
             "linecolor": "white",
             "minorgridcolor": "white",
             "startlinecolor": "#2a3f5f"
            },
            "type": "carpet"
           }
          ],
          "choropleth": [
           {
            "colorbar": {
             "outlinewidth": 0,
             "ticks": ""
            },
            "type": "choropleth"
           }
          ],
          "contour": [
           {
            "colorbar": {
             "outlinewidth": 0,
             "ticks": ""
            },
            "colorscale": [
             [
              0,
              "#0d0887"
             ],
             [
              0.1111111111111111,
              "#46039f"
             ],
             [
              0.2222222222222222,
              "#7201a8"
             ],
             [
              0.3333333333333333,
              "#9c179e"
             ],
             [
              0.4444444444444444,
              "#bd3786"
             ],
             [
              0.5555555555555556,
              "#d8576b"
             ],
             [
              0.6666666666666666,
              "#ed7953"
             ],
             [
              0.7777777777777778,
              "#fb9f3a"
             ],
             [
              0.8888888888888888,
              "#fdca26"
             ],
             [
              1,
              "#f0f921"
             ]
            ],
            "type": "contour"
           }
          ],
          "contourcarpet": [
           {
            "colorbar": {
             "outlinewidth": 0,
             "ticks": ""
            },
            "type": "contourcarpet"
           }
          ],
          "heatmap": [
           {
            "colorbar": {
             "outlinewidth": 0,
             "ticks": ""
            },
            "colorscale": [
             [
              0,
              "#0d0887"
             ],
             [
              0.1111111111111111,
              "#46039f"
             ],
             [
              0.2222222222222222,
              "#7201a8"
             ],
             [
              0.3333333333333333,
              "#9c179e"
             ],
             [
              0.4444444444444444,
              "#bd3786"
             ],
             [
              0.5555555555555556,
              "#d8576b"
             ],
             [
              0.6666666666666666,
              "#ed7953"
             ],
             [
              0.7777777777777778,
              "#fb9f3a"
             ],
             [
              0.8888888888888888,
              "#fdca26"
             ],
             [
              1,
              "#f0f921"
             ]
            ],
            "type": "heatmap"
           }
          ],
          "heatmapgl": [
           {
            "colorbar": {
             "outlinewidth": 0,
             "ticks": ""
            },
            "colorscale": [
             [
              0,
              "#0d0887"
             ],
             [
              0.1111111111111111,
              "#46039f"
             ],
             [
              0.2222222222222222,
              "#7201a8"
             ],
             [
              0.3333333333333333,
              "#9c179e"
             ],
             [
              0.4444444444444444,
              "#bd3786"
             ],
             [
              0.5555555555555556,
              "#d8576b"
             ],
             [
              0.6666666666666666,
              "#ed7953"
             ],
             [
              0.7777777777777778,
              "#fb9f3a"
             ],
             [
              0.8888888888888888,
              "#fdca26"
             ],
             [
              1,
              "#f0f921"
             ]
            ],
            "type": "heatmapgl"
           }
          ],
          "histogram": [
           {
            "marker": {
             "pattern": {
              "fillmode": "overlay",
              "size": 10,
              "solidity": 0.2
             }
            },
            "type": "histogram"
           }
          ],
          "histogram2d": [
           {
            "colorbar": {
             "outlinewidth": 0,
             "ticks": ""
            },
            "colorscale": [
             [
              0,
              "#0d0887"
             ],
             [
              0.1111111111111111,
              "#46039f"
             ],
             [
              0.2222222222222222,
              "#7201a8"
             ],
             [
              0.3333333333333333,
              "#9c179e"
             ],
             [
              0.4444444444444444,
              "#bd3786"
             ],
             [
              0.5555555555555556,
              "#d8576b"
             ],
             [
              0.6666666666666666,
              "#ed7953"
             ],
             [
              0.7777777777777778,
              "#fb9f3a"
             ],
             [
              0.8888888888888888,
              "#fdca26"
             ],
             [
              1,
              "#f0f921"
             ]
            ],
            "type": "histogram2d"
           }
          ],
          "histogram2dcontour": [
           {
            "colorbar": {
             "outlinewidth": 0,
             "ticks": ""
            },
            "colorscale": [
             [
              0,
              "#0d0887"
             ],
             [
              0.1111111111111111,
              "#46039f"
             ],
             [
              0.2222222222222222,
              "#7201a8"
             ],
             [
              0.3333333333333333,
              "#9c179e"
             ],
             [
              0.4444444444444444,
              "#bd3786"
             ],
             [
              0.5555555555555556,
              "#d8576b"
             ],
             [
              0.6666666666666666,
              "#ed7953"
             ],
             [
              0.7777777777777778,
              "#fb9f3a"
             ],
             [
              0.8888888888888888,
              "#fdca26"
             ],
             [
              1,
              "#f0f921"
             ]
            ],
            "type": "histogram2dcontour"
           }
          ],
          "mesh3d": [
           {
            "colorbar": {
             "outlinewidth": 0,
             "ticks": ""
            },
            "type": "mesh3d"
           }
          ],
          "parcoords": [
           {
            "line": {
             "colorbar": {
              "outlinewidth": 0,
              "ticks": ""
             }
            },
            "type": "parcoords"
           }
          ],
          "pie": [
           {
            "automargin": true,
            "type": "pie"
           }
          ],
          "scatter": [
           {
            "fillpattern": {
             "fillmode": "overlay",
             "size": 10,
             "solidity": 0.2
            },
            "type": "scatter"
           }
          ],
          "scatter3d": [
           {
            "line": {
             "colorbar": {
              "outlinewidth": 0,
              "ticks": ""
             }
            },
            "marker": {
             "colorbar": {
              "outlinewidth": 0,
              "ticks": ""
             }
            },
            "type": "scatter3d"
           }
          ],
          "scattercarpet": [
           {
            "marker": {
             "colorbar": {
              "outlinewidth": 0,
              "ticks": ""
             }
            },
            "type": "scattercarpet"
           }
          ],
          "scattergeo": [
           {
            "marker": {
             "colorbar": {
              "outlinewidth": 0,
              "ticks": ""
             }
            },
            "type": "scattergeo"
           }
          ],
          "scattergl": [
           {
            "marker": {
             "colorbar": {
              "outlinewidth": 0,
              "ticks": ""
             }
            },
            "type": "scattergl"
           }
          ],
          "scattermapbox": [
           {
            "marker": {
             "colorbar": {
              "outlinewidth": 0,
              "ticks": ""
             }
            },
            "type": "scattermapbox"
           }
          ],
          "scatterpolar": [
           {
            "marker": {
             "colorbar": {
              "outlinewidth": 0,
              "ticks": ""
             }
            },
            "type": "scatterpolar"
           }
          ],
          "scatterpolargl": [
           {
            "marker": {
             "colorbar": {
              "outlinewidth": 0,
              "ticks": ""
             }
            },
            "type": "scatterpolargl"
           }
          ],
          "scatterternary": [
           {
            "marker": {
             "colorbar": {
              "outlinewidth": 0,
              "ticks": ""
             }
            },
            "type": "scatterternary"
           }
          ],
          "surface": [
           {
            "colorbar": {
             "outlinewidth": 0,
             "ticks": ""
            },
            "colorscale": [
             [
              0,
              "#0d0887"
             ],
             [
              0.1111111111111111,
              "#46039f"
             ],
             [
              0.2222222222222222,
              "#7201a8"
             ],
             [
              0.3333333333333333,
              "#9c179e"
             ],
             [
              0.4444444444444444,
              "#bd3786"
             ],
             [
              0.5555555555555556,
              "#d8576b"
             ],
             [
              0.6666666666666666,
              "#ed7953"
             ],
             [
              0.7777777777777778,
              "#fb9f3a"
             ],
             [
              0.8888888888888888,
              "#fdca26"
             ],
             [
              1,
              "#f0f921"
             ]
            ],
            "type": "surface"
           }
          ],
          "table": [
           {
            "cells": {
             "fill": {
              "color": "#EBF0F8"
             },
             "line": {
              "color": "white"
             }
            },
            "header": {
             "fill": {
              "color": "#C8D4E3"
             },
             "line": {
              "color": "white"
             }
            },
            "type": "table"
           }
          ]
         },
         "layout": {
          "annotationdefaults": {
           "arrowcolor": "#2a3f5f",
           "arrowhead": 0,
           "arrowwidth": 1
          },
          "autotypenumbers": "strict",
          "coloraxis": {
           "colorbar": {
            "outlinewidth": 0,
            "ticks": ""
           }
          },
          "colorscale": {
           "diverging": [
            [
             0,
             "#8e0152"
            ],
            [
             0.1,
             "#c51b7d"
            ],
            [
             0.2,
             "#de77ae"
            ],
            [
             0.3,
             "#f1b6da"
            ],
            [
             0.4,
             "#fde0ef"
            ],
            [
             0.5,
             "#f7f7f7"
            ],
            [
             0.6,
             "#e6f5d0"
            ],
            [
             0.7,
             "#b8e186"
            ],
            [
             0.8,
             "#7fbc41"
            ],
            [
             0.9,
             "#4d9221"
            ],
            [
             1,
             "#276419"
            ]
           ],
           "sequential": [
            [
             0,
             "#0d0887"
            ],
            [
             0.1111111111111111,
             "#46039f"
            ],
            [
             0.2222222222222222,
             "#7201a8"
            ],
            [
             0.3333333333333333,
             "#9c179e"
            ],
            [
             0.4444444444444444,
             "#bd3786"
            ],
            [
             0.5555555555555556,
             "#d8576b"
            ],
            [
             0.6666666666666666,
             "#ed7953"
            ],
            [
             0.7777777777777778,
             "#fb9f3a"
            ],
            [
             0.8888888888888888,
             "#fdca26"
            ],
            [
             1,
             "#f0f921"
            ]
           ],
           "sequentialminus": [
            [
             0,
             "#0d0887"
            ],
            [
             0.1111111111111111,
             "#46039f"
            ],
            [
             0.2222222222222222,
             "#7201a8"
            ],
            [
             0.3333333333333333,
             "#9c179e"
            ],
            [
             0.4444444444444444,
             "#bd3786"
            ],
            [
             0.5555555555555556,
             "#d8576b"
            ],
            [
             0.6666666666666666,
             "#ed7953"
            ],
            [
             0.7777777777777778,
             "#fb9f3a"
            ],
            [
             0.8888888888888888,
             "#fdca26"
            ],
            [
             1,
             "#f0f921"
            ]
           ]
          },
          "colorway": [
           "#636efa",
           "#EF553B",
           "#00cc96",
           "#ab63fa",
           "#FFA15A",
           "#19d3f3",
           "#FF6692",
           "#B6E880",
           "#FF97FF",
           "#FECB52"
          ],
          "font": {
           "color": "#2a3f5f"
          },
          "geo": {
           "bgcolor": "white",
           "lakecolor": "white",
           "landcolor": "#E5ECF6",
           "showlakes": true,
           "showland": true,
           "subunitcolor": "white"
          },
          "hoverlabel": {
           "align": "left"
          },
          "hovermode": "closest",
          "mapbox": {
           "style": "light"
          },
          "paper_bgcolor": "white",
          "plot_bgcolor": "#E5ECF6",
          "polar": {
           "angularaxis": {
            "gridcolor": "white",
            "linecolor": "white",
            "ticks": ""
           },
           "bgcolor": "#E5ECF6",
           "radialaxis": {
            "gridcolor": "white",
            "linecolor": "white",
            "ticks": ""
           }
          },
          "scene": {
           "xaxis": {
            "backgroundcolor": "#E5ECF6",
            "gridcolor": "white",
            "gridwidth": 2,
            "linecolor": "white",
            "showbackground": true,
            "ticks": "",
            "zerolinecolor": "white"
           },
           "yaxis": {
            "backgroundcolor": "#E5ECF6",
            "gridcolor": "white",
            "gridwidth": 2,
            "linecolor": "white",
            "showbackground": true,
            "ticks": "",
            "zerolinecolor": "white"
           },
           "zaxis": {
            "backgroundcolor": "#E5ECF6",
            "gridcolor": "white",
            "gridwidth": 2,
            "linecolor": "white",
            "showbackground": true,
            "ticks": "",
            "zerolinecolor": "white"
           }
          },
          "shapedefaults": {
           "line": {
            "color": "#2a3f5f"
           }
          },
          "ternary": {
           "aaxis": {
            "gridcolor": "white",
            "linecolor": "white",
            "ticks": ""
           },
           "baxis": {
            "gridcolor": "white",
            "linecolor": "white",
            "ticks": ""
           },
           "bgcolor": "#E5ECF6",
           "caxis": {
            "gridcolor": "white",
            "linecolor": "white",
            "ticks": ""
           }
          },
          "title": {
           "x": 0.05
          },
          "xaxis": {
           "automargin": true,
           "gridcolor": "white",
           "linecolor": "white",
           "ticks": "",
           "title": {
            "standoff": 15
           },
           "zerolinecolor": "white",
           "zerolinewidth": 2
          },
          "yaxis": {
           "automargin": true,
           "gridcolor": "white",
           "linecolor": "white",
           "ticks": "",
           "title": {
            "standoff": 15
           },
           "zerolinecolor": "white",
           "zerolinewidth": 2
          }
         }
        },
        "xaxis": {
         "anchor": "y",
         "domain": [
          0,
          1
         ],
         "title": {
          "text": "index"
         }
        },
        "yaxis": {
         "anchor": "x",
         "domain": [
          0,
          1
         ],
         "title": {
          "text": "value"
         }
        }
       }
      }
     },
     "metadata": {},
     "output_type": "display_data"
    }
   ],
   "source": [
    "dv = prob_v.loc[category]\n",
    "dv.name = \"Validation\"\n",
    "di = prob_i.loc[category]\n",
    "di.name = \"Input\"\n",
    "orig = pd.concat([dv, di], axis=1)\n",
    "combined = pd.concat([result, orig], axis=1)\n",
    "fig = px.line(combined)\n",
    "fig.show()"
   ]
  }
 ],
 "metadata": {
  "kernelspec": {
   "display_name": "Python 3",
   "language": "python",
   "name": "python3"
  },
  "language_info": {
   "codemirror_mode": {
    "name": "ipython",
    "version": 3
   },
   "file_extension": ".py",
   "mimetype": "text/x-python",
   "name": "python",
   "nbconvert_exporter": "python",
   "pygments_lexer": "ipython3",
   "version": "3.11.6"
  }
 },
 "nbformat": 4,
 "nbformat_minor": 2
}
