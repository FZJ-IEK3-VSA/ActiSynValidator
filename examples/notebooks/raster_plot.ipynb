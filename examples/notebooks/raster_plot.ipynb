{
 "cells": [
  {
   "cell_type": "code",
   "execution_count": null,
   "metadata": {},
   "outputs": [],
   "source": [
    "import pandas as pd\n",
    "import plotly.express as px\n",
    "import plotly.graph_objects as go"
   ]
  },
  {
   "cell_type": "code",
   "execution_count": null,
   "metadata": {},
   "outputs": [],
   "source": [
    "from activity_validator.hetus_data_processing import main\n",
    "import activity_validator.hetus_data_processing.hetus_column_names as col\n",
    "# load the main data\n",
    "# TODO: only works when executed from project root directory\n",
    "profile_type, data = main.process_hetus_2010_data()\n",
    "act_data = col.get_activity_data(data)"
   ]
  },
  {
   "cell_type": "code",
   "execution_count": null,
   "metadata": {},
   "outputs": [],
   "source": [
    "# functions for sorting the data and see how the plot changes\n",
    "def sort_by_waking_up(act_data):\n",
    "    \"\"\"Sort by first activity that is not 'sleep'\"\"\"\n",
    "    # set 'sleep' to NAN\n",
    "    no_sleep = act_data[act_data != \"sleep\"].T\n",
    "    # reset to int index (MACT1 - MACT144 is not sortable)\n",
    "    no_sleep.reset_index(drop=True, inplace=True)\n",
    "    # get the index of first non-NAN value for each column\n",
    "    i_first  = pd.Series([no_sleep[s].first_valid_index() for s in no_sleep])\n",
    "    # set an arbitrary high index for NAN values and sort the data by the indices\n",
    "    i_first.fillna(200, inplace=True)\n",
    "    i_sorted = i_first.argsort()\n",
    "    sorted_data = act_data.iloc[i_sorted, :]\n",
    "    return sorted_data"
   ]
  },
  {
   "cell_type": "code",
   "execution_count": null,
   "metadata": {},
   "outputs": [],
   "source": [
    "sorted_data = sort_by_waking_up(act_data)\n",
    "# sorted_data = sorted_data.iloc[:100,:]"
   ]
  },
  {
   "cell_type": "code",
   "execution_count": null,
   "metadata": {},
   "outputs": [],
   "source": [
    "# encode data as ints\n",
    "single_col = sorted_data.stack(sorted_data.columns.names)\n",
    "codes, uniques = single_col.factorize()  # type: ignore\n",
    "single_col[:] = codes\n",
    "encoded = single_col.unstack()"
   ]
  },
  {
   "cell_type": "code",
   "execution_count": null,
   "metadata": {},
   "outputs": [],
   "source": [
    "# Plot the heatmap. Further info: https://plotly.com/python/heatmaps/\n",
    "heatmap = go.Heatmap(z=encoded.T, colorscale=px.colors.qualitative.Plotly)\n",
    "\n",
    "# adapt the colorbar to use the string values\n",
    "colorbar = go.heatmap.ColorBar(title='Activity Groups', tickvals=list(range(len(uniques))), ticktext=uniques)\n",
    "heatmap.update(colorbar=colorbar)\n",
    "\n",
    "fig = go.Figure(heatmap)\n",
    "title = \" - \".join(profile_type.to_tuple())\n",
    "fig.update_layout(xaxis_title=\"Diary Entry\", yaxis_title=\"Time\", title=title)\n",
    "# set the tooltip to show the string instead of the encoded int\n",
    "fig.update_traces(hovertext=sorted_data.T)\n",
    "fig.layout.yaxis.autorange=\"reversed\"\n",
    "fig.show()"
   ]
  }
 ],
 "metadata": {
  "kernelspec": {
   "display_name": "Python 3",
   "language": "python",
   "name": "python3"
  },
  "language_info": {
   "codemirror_mode": {
    "name": "ipython",
    "version": 3
   },
   "file_extension": ".py",
   "mimetype": "text/x-python",
   "name": "python",
   "nbconvert_exporter": "python",
   "pygments_lexer": "ipython3",
   "version": "3.12.0"
  }
 },
 "nbformat": 4,
 "nbformat_minor": 2
}
